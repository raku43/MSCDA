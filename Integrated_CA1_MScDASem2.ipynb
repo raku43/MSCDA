{
 "cells": [
  {
   "cell_type": "code",
   "execution_count": null,
   "id": "d6704dbf",
   "metadata": {},
   "outputs": [],
   "source": [
    ",#pip install seaborn - installed already"
   ]
  },
  {
   "cell_type": "code",
   "execution_count": 1,
   "id": "62491da5",
   "metadata": {},
   "outputs": [],
   "source": [
    "# Import functions\n",
    "from pyspark.sql.types import *\n",
    "from pyspark.sql import functions \n",
    "\n",
    "import pandas as pd\n",
    "import numpy as np\n",
    "import seaborn as sns\n"
   ]
  },
  {
   "cell_type": "code",
   "execution_count": 2,
   "id": "9fdff5a3",
   "metadata": {},
   "outputs": [
    {
     "name": "stderr",
     "output_type": "stream",
     "text": [
      "2023-04-07 16:46:40,993 WARN csv.CSVHeaderChecker: CSV header does not conform to the schema.\n",
      " Header: , airline, flight, source_city, departure_time, stops, arrival_time, destination_city, class, duration, days_left, price\n",
      " Schema: _c0, airline, flight, source_city, departure_time, stops, arrival_time, destination_city, class, duration, days_left, price\n",
      "Expected: _c0 but found: \n",
      "CSV file: hdfs://localhost:9000/user1/Full_Flight_Dataset.csv\n",
      "                                                                                \r"
     ]
    },
    {
     "data": {
      "text/plain": [
       "Row(_c0='0', airline='SpiceJet', flight='SG-8709', source_city='Delhi', departure_time='Evening', stops='zero', arrival_time='Night', destination_city='Mumbai', class='Economy', duration='2.17', days_left='1', price='5953')"
      ]
     },
     "execution_count": 2,
     "metadata": {},
     "output_type": "execute_result"
    }
   ],
   "source": [
    "# Set File Paths \n",
    "# Download these files from Moodle\n",
    "# Copy these files to hadoop framewrok by using the following command\n",
    "# Create a tmp folder on hadoop by using $hadoop fs -mkdir /tmp\n",
    "# $hadoop fs -put ./airport-codes-na.txt /tmp\n",
    "\n",
    "flightpricepath = \"/user1/Full_Flight_Dataset.csv\"\n",
    "\n",
    "\n",
    "# Obtain Flight Price dataset\n",
    "flightPrice = spark.read.csv(flightpricepath, header='true')\n",
    "flightPrice.createOrReplaceTempView(\"FlightPrice\")\n",
    "\n",
    "# Cache the Flight Price dataset \n",
    "flightPrice.cache()\n",
    "flightPrice.first()"
   ]
  },
  {
   "cell_type": "code",
   "execution_count": 3,
   "id": "f4600feb",
   "metadata": {},
   "outputs": [],
   "source": [
    "df=spark.sql(\"select * from FlightPrice\")\n",
    "#df.count()"
   ]
  },
  {
   "cell_type": "code",
   "execution_count": 4,
   "id": "ac8c79ba",
   "metadata": {
    "scrolled": true
   },
   "outputs": [
    {
     "name": "stdout",
     "output_type": "stream",
     "text": [
      "+---------+-----------+--------------+-----+-------------+----------------+-------+--------+---------+-----+\n",
      "|  airline|source_city|departure_time|stops| arrival_time|destination_city|  class|duration|days_left|price|\n",
      "+---------+-----------+--------------+-----+-------------+----------------+-------+--------+---------+-----+\n",
      "| SpiceJet|      Delhi|       Evening| zero|        Night|          Mumbai|Economy|    2.17|        1| 5953|\n",
      "| SpiceJet|      Delhi| Early_Morning| zero|      Morning|          Mumbai|Economy|    2.33|        1| 5953|\n",
      "|  AirAsia|      Delhi| Early_Morning| zero|Early_Morning|          Mumbai|Economy|    2.17|        1| 5956|\n",
      "|  Vistara|      Delhi|       Morning| zero|    Afternoon|          Mumbai|Economy|    2.25|        1| 5955|\n",
      "|  Vistara|      Delhi|       Morning| zero|      Morning|          Mumbai|Economy|    2.33|        1| 5955|\n",
      "|  Vistara|      Delhi|       Morning| zero|    Afternoon|          Mumbai|Economy|    2.33|        1| 5955|\n",
      "|  Vistara|      Delhi|       Morning| zero|      Morning|          Mumbai|Economy|    2.08|        1| 6060|\n",
      "|  Vistara|      Delhi|     Afternoon| zero|      Evening|          Mumbai|Economy|    2.17|        1| 6060|\n",
      "| GO_FIRST|      Delhi| Early_Morning| zero|      Morning|          Mumbai|Economy|    2.17|        1| 5954|\n",
      "| GO_FIRST|      Delhi|     Afternoon| zero|      Evening|          Mumbai|Economy|    2.25|        1| 5954|\n",
      "| GO_FIRST|      Delhi|     Afternoon| zero|      Evening|          Mumbai|Economy|    2.25|        1| 5954|\n",
      "| GO_FIRST|      Delhi|       Morning| zero|    Afternoon|          Mumbai|Economy|    2.33|        1| 5954|\n",
      "|   Indigo|      Delhi| Early_Morning| zero|      Morning|          Mumbai|Economy|    2.17|        1| 5955|\n",
      "|   Indigo|      Delhi|       Morning| zero|    Afternoon|          Mumbai|Economy|    2.17|        1| 5955|\n",
      "|   Indigo|      Delhi|     Afternoon| zero|      Evening|          Mumbai|Economy|    2.25|        1| 5955|\n",
      "|   Indigo|      Delhi|       Morning| zero|      Morning|          Mumbai|Economy|    2.33|        1| 5955|\n",
      "|Air_India|      Delhi| Early_Morning| zero|      Morning|          Mumbai|Economy|    2.08|        1| 5955|\n",
      "|Air_India|      Delhi| Early_Morning| zero|      Morning|          Mumbai|Economy|    2.17|        1| 5955|\n",
      "|  AirAsia|      Delhi|       Evening|  one|Early_Morning|          Mumbai|Economy|   12.25|        1| 5949|\n",
      "|  AirAsia|      Delhi|       Evening|  one|      Morning|          Mumbai|Economy|   16.33|        1| 5949|\n",
      "+---------+-----------+--------------+-----+-------------+----------------+-------+--------+---------+-----+\n",
      "only showing top 20 rows\n",
      "\n"
     ]
    }
   ],
   "source": [
    "df_flightprice=spark.sql(\"select  airline,source_city,departure_time,stops,arrival_time,destination_city,class,duration,days_left,price from FlightPrice\")\n",
    "df_flightprice.show()"
   ]
  },
  {
   "cell_type": "code",
   "execution_count": 5,
   "id": "4b5ab695",
   "metadata": {},
   "outputs": [],
   "source": [
    "#df_flightprice_pandas=df_flightprice.toPandas()"
   ]
  },
  {
   "cell_type": "code",
   "execution_count": 6,
   "id": "6bba7a9d",
   "metadata": {},
   "outputs": [],
   "source": [
    "#df_flightprice_pandas.head()"
   ]
  },
  {
   "cell_type": "code",
   "execution_count": 5,
   "id": "85b04e5f",
   "metadata": {},
   "outputs": [],
   "source": [
    "df_flightprice1 = df_flightprice.withColumn('airline',functions.when(df_flightprice['airline']=='AirAsia',1)\n",
    "                                            .when(df_flightprice['airline']=='Air_India',2)\n",
    "                                           .when(df_flightprice['airline']=='GO_FIRST',3)\n",
    "                                            .when(df_flightprice['airline']=='Indigo',4)\n",
    "                                            .when(df_flightprice['airline']=='SpiceJet',5)\n",
    "                                            .when(df_flightprice['airline']=='Vistara',6)\n",
    "                                           \n",
    "                                           \n",
    "                                           )"
   ]
  },
  {
   "cell_type": "code",
   "execution_count": 6,
   "id": "9286bdcb",
   "metadata": {},
   "outputs": [],
   "source": [
    "df_flightprice1 = df_flightprice1.withColumn('source_city',functions.when(df_flightprice['source_city']=='Bangalore',1)\n",
    "                                            .when(df_flightprice['source_city']=='Chennai',2)\n",
    "                                           .when(df_flightprice['source_city']=='Delhi',3)\n",
    "                                            .when(df_flightprice['source_city']=='Hyderabad',4)\n",
    "                                            .when(df_flightprice['source_city']=='Kolkata',5)\n",
    "                                            .when(df_flightprice['source_city']=='Mumbai',6)\n",
    "                                           \n",
    "                                           )"
   ]
  },
  {
   "cell_type": "code",
   "execution_count": 7,
   "id": "2807b792",
   "metadata": {},
   "outputs": [],
   "source": [
    "df_flightprice1 = df_flightprice1.withColumn('destination_city',functions\n",
    "                                            .when(df_flightprice['destination_city']=='Bangalore',1)\n",
    "                                            .when(df_flightprice['destination_city']=='Chennai',2)\n",
    "                                            .when(df_flightprice['destination_city']=='Delhi',3)\n",
    "                                            .when(df_flightprice['destination_city']=='Hyderabad',4)\n",
    "                                            .when(df_flightprice['destination_city']=='Kolkata',5)\n",
    "                                            .when(df_flightprice['destination_city']=='Mumbai',6)\n",
    "                                           \n",
    "                                           )"
   ]
  },
  {
   "cell_type": "code",
   "execution_count": 8,
   "id": "7d850d82",
   "metadata": {},
   "outputs": [],
   "source": [
    "df_flightprice1 = df_flightprice1.withColumn('departure_time',functions\n",
    "                                            .when(df_flightprice['departure_time']=='Early_Morning',1)\n",
    "                                            .when(df_flightprice['departure_time']=='Morning',2)\n",
    "                                            .when(df_flightprice['departure_time']=='Afternoon',3)\n",
    "                                            .when(df_flightprice['departure_time']=='Evening',4)\n",
    "                                            .when(df_flightprice['departure_time']=='Night',5)\n",
    "                                            .when(df_flightprice['departure_time']=='Late_Night',6)\n",
    "                                           \n",
    "                                           )"
   ]
  },
  {
   "cell_type": "code",
   "execution_count": 9,
   "id": "554988a9",
   "metadata": {},
   "outputs": [],
   "source": [
    "df_flightprice1 = df_flightprice1.withColumn('arrival_time',functions\n",
    "                                            .when(df_flightprice['arrival_time']=='Early_Morning',1)\n",
    "                                            .when(df_flightprice['arrival_time']=='Morning',2)\n",
    "                                            .when(df_flightprice['arrival_time']=='Afternoon',3)\n",
    "                                            .when(df_flightprice['arrival_time']=='Evening',4)\n",
    "                                            .when(df_flightprice['arrival_time']=='Night',5)\n",
    "                                            .when(df_flightprice['arrival_time']=='Late_Night',6)\n",
    "                                           \n",
    "                                           )"
   ]
  },
  {
   "cell_type": "code",
   "execution_count": 10,
   "id": "ed4149f2",
   "metadata": {},
   "outputs": [],
   "source": [
    "df_flightprice1 = df_flightprice1.withColumn('stops',functions\n",
    "                                            .when(df_flightprice['stops']=='zero',0)\n",
    "                                            .when(df_flightprice['stops']=='one',1)\n",
    "                                            .when(df_flightprice['stops']=='two_or_more',2)\n",
    "                                            \n",
    "                                           )"
   ]
  },
  {
   "cell_type": "code",
   "execution_count": 11,
   "id": "002949bd",
   "metadata": {},
   "outputs": [],
   "source": [
    "df_flightprice1 = df_flightprice1.withColumn('class',functions\n",
    "                                            .when(df_flightprice['class']=='Business',1)\n",
    "                                            .otherwise(2)\n",
    "                                            \n",
    "                                           )"
   ]
  },
  {
   "cell_type": "code",
   "execution_count": 14,
   "id": "bd00e938",
   "metadata": {
    "scrolled": false
   },
   "outputs": [
    {
     "name": "stdout",
     "output_type": "stream",
     "text": [
      "+-------+-----------+--------------+-----+------------+----------------+-----+--------+---------+-----+\n",
      "|airline|source_city|departure_time|stops|arrival_time|destination_city|class|duration|days_left|price|\n",
      "+-------+-----------+--------------+-----+------------+----------------+-----+--------+---------+-----+\n",
      "|      5|          3|             4|    0|           5|               6|    2|    2.17|        1| 5953|\n",
      "|      5|          3|             1|    0|           2|               6|    2|    2.33|        1| 5953|\n",
      "|      1|          3|             1|    0|           1|               6|    2|    2.17|        1| 5956|\n",
      "|      6|          3|             2|    0|           3|               6|    2|    2.25|        1| 5955|\n",
      "|      6|          3|             2|    0|           2|               6|    2|    2.33|        1| 5955|\n",
      "|      6|          3|             2|    0|           3|               6|    2|    2.33|        1| 5955|\n",
      "|      6|          3|             2|    0|           2|               6|    2|    2.08|        1| 6060|\n",
      "|      6|          3|             3|    0|           4|               6|    2|    2.17|        1| 6060|\n",
      "|      3|          3|             1|    0|           2|               6|    2|    2.17|        1| 5954|\n",
      "|      3|          3|             3|    0|           4|               6|    2|    2.25|        1| 5954|\n",
      "|      3|          3|             3|    0|           4|               6|    2|    2.25|        1| 5954|\n",
      "|      3|          3|             2|    0|           3|               6|    2|    2.33|        1| 5954|\n",
      "|      4|          3|             1|    0|           2|               6|    2|    2.17|        1| 5955|\n",
      "|      4|          3|             2|    0|           3|               6|    2|    2.17|        1| 5955|\n",
      "|      4|          3|             3|    0|           4|               6|    2|    2.25|        1| 5955|\n",
      "|      4|          3|             2|    0|           2|               6|    2|    2.33|        1| 5955|\n",
      "|      2|          3|             1|    0|           2|               6|    2|    2.08|        1| 5955|\n",
      "|      2|          3|             1|    0|           2|               6|    2|    2.17|        1| 5955|\n",
      "|      1|          3|             4|    1|           1|               6|    2|   12.25|        1| 5949|\n",
      "|      1|          3|             4|    1|           2|               6|    2|   16.33|        1| 5949|\n",
      "+-------+-----------+--------------+-----+------------+----------------+-----+--------+---------+-----+\n",
      "only showing top 20 rows\n",
      "\n"
     ]
    }
   ],
   "source": [
    "df_flightprice1.show()"
   ]
  },
  {
   "cell_type": "code",
   "execution_count": 15,
   "id": "3cceb093",
   "metadata": {},
   "outputs": [],
   "source": [
    "#Import Numpy\n",
    "import numpy as np"
   ]
  },
  {
   "cell_type": "code",
   "execution_count": null,
   "id": "c0b7baa8",
   "metadata": {},
   "outputs": [],
   "source": [
    "df_flightprice1.select(\"airline\").limit(50000).collect()"
   ]
  },
  {
   "cell_type": "code",
   "execution_count": null,
   "id": "924b3187",
   "metadata": {},
   "outputs": [],
   "source": [
    "data_array =  np.array(df_flightprice1.select(\"airline\", \"source_city\", \"departure_time\",\"stops\",\"arrival_time\",\"destination_city\",\"class\",\"duration\",\"days_left\",\"price\").limit(50000).collect())\n",
    "#data_array #view the array"
   ]
  },
  {
   "cell_type": "code",
   "execution_count": null,
   "id": "91dc1ecd",
   "metadata": {},
   "outputs": [],
   "source": [
    "#df_flightprice2 =  df_flightprice1.select(\"airline\", \"source_city\", \"departure_time\",\"stops\",\"arrival_time\",\"destination_city\",\"class\",\"duration\",\"days_left\",\"price\").limit(25000)\n",
    "\n",
    "#df_flightprice2.count()"
   ]
  },
  {
   "cell_type": "code",
   "execution_count": 17,
   "id": "430e3524",
   "metadata": {},
   "outputs": [],
   "source": [
    "df_flightpricex =  df_flightprice1.select(\"airline\", \"source_city\", \"departure_time\",\"stops\",\"arrival_time\",\"destination_city\",\"class\",\"duration\",\"days_left\",\"price\").filter(\"class=1\").limit(25000)\n",
    "df_flightpricey =  df_flightprice1.select(\"airline\", \"source_city\", \"departure_time\",\"stops\",\"arrival_time\",\"destination_city\",\"class\",\"duration\",\"days_left\",\"price\").filter(\"class=2\").limit(25000)\n",
    "df_flightprice3=df_flightpricex.union(df_flightpricey)\n"
   ]
  },
  {
   "cell_type": "code",
   "execution_count": 18,
   "id": "9a25bb19",
   "metadata": {},
   "outputs": [
    {
     "name": "stderr",
     "output_type": "stream",
     "text": [
      "2023-04-06 12:38:30,536 WARN csv.CSVHeaderChecker: CSV header does not conform to the schema.\n",
      " Header: , airline, flight, source_city, departure_time, stops, arrival_time, destination_city, class, duration, days_left, price\n",
      " Schema: _c0, airline, flight, source_city, departure_time, stops, arrival_time, destination_city, class, duration, days_left, price\n",
      "Expected: _c0 but found: \n",
      "CSV file: hdfs://localhost:9000/user1/Full_Flight_Dataset.csv\n",
      "                                                                                \r"
     ]
    }
   ],
   "source": [
    "#df_flightprice2.write.option(\"header\",True)\n",
    "#df_flightprice2.write.option(\"delimiter\",\"|\")\n",
    "\n",
    "df_flightprice3.write.mode(\"append\").csv(\"/user1\")\n",
    "\n",
    "\n",
    "\n"
   ]
  },
  {
   "cell_type": "code",
   "execution_count": null,
   "id": "b63319a9",
   "metadata": {},
   "outputs": [],
   "source": [
    "df_flightprice2.show()"
   ]
  },
  {
   "cell_type": "code",
   "execution_count": null,
   "id": "6ac5a6b0",
   "metadata": {},
   "outputs": [],
   "source": [
    "data_array.shape"
   ]
  },
  {
   "cell_type": "code",
   "execution_count": null,
   "id": "7e674898",
   "metadata": {},
   "outputs": [],
   "source": [
    "df_flightprice1_pandas=df_flightprice1.toPandas()"
   ]
  },
  {
   "cell_type": "code",
   "execution_count": null,
   "id": "6997269b",
   "metadata": {},
   "outputs": [],
   "source": [
    "sns.pairplot(df_flightprice1_pandas.head(50000))"
   ]
  },
  {
   "cell_type": "code",
   "execution_count": null,
   "id": "4a17db84",
   "metadata": {},
   "outputs": [],
   "source": [
    "X = data_array[:,:9]\n",
    "y = data_array[:,9]\n",
    "print(X,y) "
   ]
  },
  {
   "cell_type": "markdown",
   "id": "923509df",
   "metadata": {},
   "source": [
    "#Use minmax scalar so that shape of the dataset is preserved"
   ]
  },
  {
   "cell_type": "code",
   "execution_count": null,
   "id": "c8f4070a",
   "metadata": {},
   "outputs": [],
   "source": [
    "from sklearn.preprocessing import MinMaxScaler\n",
    "scale=MinMaxScaler()\n",
    "X=scale.fit_transform(X)\n",
    "y=y.reshape(-1,1)\n",
    "y=scale.fit_transform(y)"
   ]
  },
  {
   "cell_type": "code",
   "execution_count": null,
   "id": "7641808c",
   "metadata": {},
   "outputs": [],
   "source": [
    "print(X,y)"
   ]
  },
  {
   "cell_type": "code",
   "execution_count": null,
   "id": "a0b836a9",
   "metadata": {},
   "outputs": [],
   "source": [
    "from sklearn.model_selection import train_test_split\n",
    "X_train,X_test,y_train,y_test=train_test_split(X,y,test_size=0.3)"
   ]
  },
  {
   "cell_type": "code",
   "execution_count": null,
   "id": "a2fd621d",
   "metadata": {},
   "outputs": [],
   "source": [
    "pip install keras"
   ]
  },
  {
   "cell_type": "code",
   "execution_count": null,
   "id": "23cf86df",
   "metadata": {},
   "outputs": [],
   "source": [
    "import os\n",
    "os.environ['KMP_DUPLICATE_LIB_OK']='True'\n"
   ]
  },
  {
   "cell_type": "code",
   "execution_count": null,
   "id": "0dda148c",
   "metadata": {},
   "outputs": [],
   "source": [
    "import tensorflow as tf"
   ]
  },
  {
   "cell_type": "code",
   "execution_count": null,
   "id": "040a4434",
   "metadata": {},
   "outputs": [],
   "source": [
    "from keras import Sequential\n"
   ]
  },
  {
   "cell_type": "code",
   "execution_count": null,
   "id": "11cf8ae9",
   "metadata": {},
   "outputs": [],
   "source": [
    "from keras.layers import Dense\n"
   ]
  },
  {
   "cell_type": "code",
   "execution_count": null,
   "id": "d342b2d5",
   "metadata": {},
   "outputs": [],
   "source": [
    "def build_regressor():\n",
    "    regressor = Sequential()\n",
    "    regressor.add(Dense(units=9, input_dim=9))\n",
    "    regressor.add(Dense(units=1))\n",
    "    regressor.compile(optimizer='adam', loss='mean_squared_error',  metrics=['mae','accuracy'])\n",
    "    return regressor"
   ]
  }
 ],
 "metadata": {
  "kernelspec": {
   "display_name": "Python 3 (ipykernel)",
   "language": "python",
   "name": "python3"
  },
  "language_info": {
   "codemirror_mode": {
    "name": "ipython",
    "version": 3
   },
   "file_extension": ".py",
   "mimetype": "text/x-python",
   "name": "python",
   "nbconvert_exporter": "python",
   "pygments_lexer": "ipython3",
   "version": "3.10.6"
  }
 },
 "nbformat": 4,
 "nbformat_minor": 5
}
